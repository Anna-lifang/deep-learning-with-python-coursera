{
    "cells": [
        {
            "cell_type": "markdown",
            "metadata": {},
            "source": "# Download and Clean Dataset"
        },
        {
            "cell_type": "code",
            "execution_count": 1,
            "metadata": {},
            "outputs": [],
            "source": "import pandas as pd\nimport numpy as np"
        },
        {
            "cell_type": "markdown",
            "metadata": {},
            "source": "## Let's download the data and read it into a pandas dataframe."
        },
        {
            "cell_type": "code",
            "execution_count": 2,
            "metadata": {},
            "outputs": [
                {
                    "data": {
                        "text/html": "<div>\n<style scoped>\n    .dataframe tbody tr th:only-of-type {\n        vertical-align: middle;\n    }\n\n    .dataframe tbody tr th {\n        vertical-align: top;\n    }\n\n    .dataframe thead th {\n        text-align: right;\n    }\n</style>\n<table border=\"1\" class=\"dataframe\">\n  <thead>\n    <tr style=\"text-align: right;\">\n      <th></th>\n      <th>Cement</th>\n      <th>Blast Furnace Slag</th>\n      <th>Fly Ash</th>\n      <th>Water</th>\n      <th>Superplasticizer</th>\n      <th>Coarse Aggregate</th>\n      <th>Fine Aggregate</th>\n      <th>Age</th>\n      <th>Strength</th>\n    </tr>\n  </thead>\n  <tbody>\n    <tr>\n      <th>0</th>\n      <td>540.0</td>\n      <td>0.0</td>\n      <td>0.0</td>\n      <td>162.0</td>\n      <td>2.5</td>\n      <td>1040.0</td>\n      <td>676.0</td>\n      <td>28</td>\n      <td>79.99</td>\n    </tr>\n    <tr>\n      <th>1</th>\n      <td>540.0</td>\n      <td>0.0</td>\n      <td>0.0</td>\n      <td>162.0</td>\n      <td>2.5</td>\n      <td>1055.0</td>\n      <td>676.0</td>\n      <td>28</td>\n      <td>61.89</td>\n    </tr>\n    <tr>\n      <th>2</th>\n      <td>332.5</td>\n      <td>142.5</td>\n      <td>0.0</td>\n      <td>228.0</td>\n      <td>0.0</td>\n      <td>932.0</td>\n      <td>594.0</td>\n      <td>270</td>\n      <td>40.27</td>\n    </tr>\n    <tr>\n      <th>3</th>\n      <td>332.5</td>\n      <td>142.5</td>\n      <td>0.0</td>\n      <td>228.0</td>\n      <td>0.0</td>\n      <td>932.0</td>\n      <td>594.0</td>\n      <td>365</td>\n      <td>41.05</td>\n    </tr>\n    <tr>\n      <th>4</th>\n      <td>198.6</td>\n      <td>132.4</td>\n      <td>0.0</td>\n      <td>192.0</td>\n      <td>0.0</td>\n      <td>978.4</td>\n      <td>825.5</td>\n      <td>360</td>\n      <td>44.30</td>\n    </tr>\n  </tbody>\n</table>\n</div>",
                        "text/plain": "   Cement  Blast Furnace Slag  Fly Ash  Water  Superplasticizer  \\\n0   540.0                 0.0      0.0  162.0               2.5   \n1   540.0                 0.0      0.0  162.0               2.5   \n2   332.5               142.5      0.0  228.0               0.0   \n3   332.5               142.5      0.0  228.0               0.0   \n4   198.6               132.4      0.0  192.0               0.0   \n\n   Coarse Aggregate  Fine Aggregate  Age  Strength  \n0            1040.0           676.0   28     79.99  \n1            1055.0           676.0   28     61.89  \n2             932.0           594.0  270     40.27  \n3             932.0           594.0  365     41.05  \n4             978.4           825.5  360     44.30  "
                    },
                    "execution_count": 2,
                    "metadata": {},
                    "output_type": "execute_result"
                }
            ],
            "source": "concrete_data = pd.read_csv('https://s3-api.us-geo.objectstorage.softlayer.net/cf-courses-data/CognitiveClass/DL0101EN/labs/data/concrete_data.csv')\nconcrete_data.head()"
        },
        {
            "cell_type": "markdown",
            "metadata": {},
            "source": "## Let's check how many data points we have."
        },
        {
            "cell_type": "code",
            "execution_count": 3,
            "metadata": {},
            "outputs": [
                {
                    "data": {
                        "text/plain": "(1030, 9)"
                    },
                    "execution_count": 3,
                    "metadata": {},
                    "output_type": "execute_result"
                }
            ],
            "source": "concrete_data.shape"
        },
        {
            "cell_type": "markdown",
            "metadata": {},
            "source": "## Let's check the dataset for any missing values."
        },
        {
            "cell_type": "code",
            "execution_count": 4,
            "metadata": {},
            "outputs": [
                {
                    "data": {
                        "text/plain": "Cement                0\nBlast Furnace Slag    0\nFly Ash               0\nWater                 0\nSuperplasticizer      0\nCoarse Aggregate      0\nFine Aggregate        0\nAge                   0\nStrength              0\ndtype: int64"
                    },
                    "execution_count": 4,
                    "metadata": {},
                    "output_type": "execute_result"
                }
            ],
            "source": "concrete_data.isnull().sum()"
        },
        {
            "cell_type": "markdown",
            "metadata": {},
            "source": "## Split data into predictors and target"
        },
        {
            "cell_type": "code",
            "execution_count": 5,
            "metadata": {},
            "outputs": [],
            "source": "concrete_data_columns = concrete_data.columns\n\npredictors = concrete_data[concrete_data_columns[concrete_data_columns != 'Strength']] # all columns except Strength\ntarget = concrete_data['Strength'] # Strength column"
        },
        {
            "cell_type": "markdown",
            "metadata": {},
            "source": "## Normalize the data is by subtracting the mean from the individual predictors and dividing by the standard deviation."
        },
        {
            "cell_type": "code",
            "execution_count": 6,
            "metadata": {},
            "outputs": [
                {
                    "data": {
                        "text/html": "<div>\n<style scoped>\n    .dataframe tbody tr th:only-of-type {\n        vertical-align: middle;\n    }\n\n    .dataframe tbody tr th {\n        vertical-align: top;\n    }\n\n    .dataframe thead th {\n        text-align: right;\n    }\n</style>\n<table border=\"1\" class=\"dataframe\">\n  <thead>\n    <tr style=\"text-align: right;\">\n      <th></th>\n      <th>Cement</th>\n      <th>Blast Furnace Slag</th>\n      <th>Fly Ash</th>\n      <th>Water</th>\n      <th>Superplasticizer</th>\n      <th>Coarse Aggregate</th>\n      <th>Fine Aggregate</th>\n      <th>Age</th>\n    </tr>\n  </thead>\n  <tbody>\n    <tr>\n      <th>0</th>\n      <td>2.476712</td>\n      <td>-0.856472</td>\n      <td>-0.846733</td>\n      <td>-0.916319</td>\n      <td>-0.620147</td>\n      <td>0.862735</td>\n      <td>-1.217079</td>\n      <td>-0.279597</td>\n    </tr>\n    <tr>\n      <th>1</th>\n      <td>2.476712</td>\n      <td>-0.856472</td>\n      <td>-0.846733</td>\n      <td>-0.916319</td>\n      <td>-0.620147</td>\n      <td>1.055651</td>\n      <td>-1.217079</td>\n      <td>-0.279597</td>\n    </tr>\n    <tr>\n      <th>2</th>\n      <td>0.491187</td>\n      <td>0.795140</td>\n      <td>-0.846733</td>\n      <td>2.174405</td>\n      <td>-1.038638</td>\n      <td>-0.526262</td>\n      <td>-2.239829</td>\n      <td>3.551340</td>\n    </tr>\n    <tr>\n      <th>3</th>\n      <td>0.491187</td>\n      <td>0.795140</td>\n      <td>-0.846733</td>\n      <td>2.174405</td>\n      <td>-1.038638</td>\n      <td>-0.526262</td>\n      <td>-2.239829</td>\n      <td>5.055221</td>\n    </tr>\n    <tr>\n      <th>4</th>\n      <td>-0.790075</td>\n      <td>0.678079</td>\n      <td>-0.846733</td>\n      <td>0.488555</td>\n      <td>-1.038638</td>\n      <td>0.070492</td>\n      <td>0.647569</td>\n      <td>4.976069</td>\n    </tr>\n  </tbody>\n</table>\n</div>",
                        "text/plain": "     Cement  Blast Furnace Slag   Fly Ash     Water  Superplasticizer  \\\n0  2.476712           -0.856472 -0.846733 -0.916319         -0.620147   \n1  2.476712           -0.856472 -0.846733 -0.916319         -0.620147   \n2  0.491187            0.795140 -0.846733  2.174405         -1.038638   \n3  0.491187            0.795140 -0.846733  2.174405         -1.038638   \n4 -0.790075            0.678079 -0.846733  0.488555         -1.038638   \n\n   Coarse Aggregate  Fine Aggregate       Age  \n0          0.862735       -1.217079 -0.279597  \n1          1.055651       -1.217079 -0.279597  \n2         -0.526262       -2.239829  3.551340  \n3         -0.526262       -2.239829  5.055221  \n4          0.070492        0.647569  4.976069  "
                    },
                    "execution_count": 6,
                    "metadata": {},
                    "output_type": "execute_result"
                }
            ],
            "source": "predictors_norm = (predictors - predictors.mean()) / predictors.std()\npredictors_norm.head()"
        },
        {
            "cell_type": "code",
            "execution_count": 7,
            "metadata": {},
            "outputs": [
                {
                    "data": {
                        "text/plain": "8"
                    },
                    "execution_count": 7,
                    "metadata": {},
                    "output_type": "execute_result"
                }
            ],
            "source": "n_cols = predictors_norm.shape[1] # number of predictors\nn_cols"
        },
        {
            "cell_type": "markdown",
            "metadata": {},
            "source": "## import the libraries"
        },
        {
            "cell_type": "code",
            "execution_count": 8,
            "metadata": {},
            "outputs": [
                {
                    "name": "stderr",
                    "output_type": "stream",
                    "text": "Using TensorFlow backend.\n"
                }
            ],
            "source": "from sklearn.model_selection import train_test_split\nfrom sklearn.metrics import mean_squared_error\nfrom sklearn.metrics import r2_score\n\nimport keras\n\nfrom keras.models import Sequential\nfrom keras.layers import Dense\nfrom sklearn.metrics import mean_squared_error"
        },
        {
            "cell_type": "markdown",
            "metadata": {},
            "source": "# Part A Build a baseline model"
        },
        {
            "cell_type": "markdown",
            "metadata": {},
            "source": "## Randomly split the data into a training and test sets by holding 30% of the data for testing."
        },
        {
            "cell_type": "code",
            "execution_count": 9,
            "metadata": {},
            "outputs": [],
            "source": "X_train, X_test, y_train, y_test = train_test_split(predictors_norm, target, test_size=0.3, random_state=42)"
        },
        {
            "cell_type": "code",
            "execution_count": 10,
            "metadata": {},
            "outputs": [],
            "source": "#build the regression model\ndef regression_model():\n    # create model\n    model = Sequential()\n    model.add(Dense(10, activation='relu', input_shape=(n_cols,)))\n    model.add(Dense(10, activation='relu', ))\n    model.add(Dense(10, activation='relu', ))\n    model.add(Dense(1))\n    \n    # compile model\n    model.compile(optimizer='adam', loss='mean_squared_error')\n    return model"
        },
        {
            "cell_type": "markdown",
            "metadata": {},
            "source": "## Train and test the model"
        },
        {
            "cell_type": "code",
            "execution_count": 11,
            "metadata": {},
            "outputs": [
                {
                    "name": "stdout",
                    "output_type": "stream",
                    "text": "WARNING:tensorflow:From /opt/conda/envs/Python36/lib/python3.6/site-packages/tensorflow/python/framework/op_def_library.py:263: colocate_with (from tensorflow.python.framework.ops) is deprecated and will be removed in a future version.\nInstructions for updating:\nColocations handled automatically by placer.\n"
                }
            ],
            "source": "model = regression_model()"
        },
        {
            "cell_type": "markdown",
            "metadata": {},
            "source": "## Train the model with 50 epoachs"
        },
        {
            "cell_type": "code",
            "execution_count": 12,
            "metadata": {},
            "outputs": [
                {
                    "name": "stdout",
                    "output_type": "stream",
                    "text": "WARNING:tensorflow:From /opt/conda/envs/Python36/lib/python3.6/site-packages/tensorflow/python/ops/math_ops.py:3066: to_int32 (from tensorflow.python.ops.math_ops) is deprecated and will be removed in a future version.\nInstructions for updating:\nUse tf.cast instead.\nEpoch 1/50\n721/721 [==============================] - 1s 2ms/step - loss: 1581.3531\nEpoch 2/50\n721/721 [==============================] - 1s 754us/step - loss: 1563.1246\nEpoch 3/50\n721/721 [==============================] - 1s 709us/step - loss: 1538.0370\nEpoch 4/50\n721/721 [==============================] - 1s 725us/step - loss: 1498.5539\nEpoch 5/50\n721/721 [==============================] - 1s 745us/step - loss: 1429.2687\nEpoch 6/50\n721/721 [==============================] - 1s 776us/step - loss: 1314.6197\nEpoch 7/50\n721/721 [==============================] - 1s 744us/step - loss: 1146.4713\nEpoch 8/50\n721/721 [==============================] - 1s 721us/step - loss: 952.1031\nEpoch 9/50\n721/721 [==============================] - 1s 758us/step - loss: 775.0472\nEpoch 10/50\n721/721 [==============================] - 1s 716us/step - loss: 620.1406\nEpoch 11/50\n721/721 [==============================] - 1s 719us/step - loss: 481.8631\nEpoch 12/50\n721/721 [==============================] - 1s 726us/step - loss: 369.0537\nEpoch 13/50\n721/721 [==============================] - 1s 734us/step - loss: 298.9872\nEpoch 14/50\n721/721 [==============================] - 1s 720us/step - loss: 260.1201\nEpoch 15/50\n721/721 [==============================] - 1s 694us/step - loss: 239.4822\nEpoch 16/50\n721/721 [==============================] - 1s 718us/step - loss: 226.1906\nEpoch 17/50\n721/721 [==============================] - 1s 749us/step - loss: 216.2942 0s - loss: 22\nEpoch 18/50\n721/721 [==============================] - 1s 724us/step - loss: 208.1682\nEpoch 19/50\n721/721 [==============================] - 1s 742us/step - loss: 201.3868\nEpoch 20/50\n721/721 [==============================] - 1s 720us/step - loss: 194.8315\nEpoch 21/50\n721/721 [==============================] - 1s 749us/step - loss: 188.9551\nEpoch 22/50\n721/721 [==============================] - 1s 699us/step - loss: 183.9643\nEpoch 23/50\n721/721 [==============================] - 1s 706us/step - loss: 178.5980\nEpoch 24/50\n721/721 [==============================] - 1s 698us/step - loss: 173.9592\nEpoch 25/50\n721/721 [==============================] - 1s 806us/step - loss: 169.9174\nEpoch 26/50\n721/721 [==============================] - 1s 719us/step - loss: 165.9860\nEpoch 27/50\n721/721 [==============================] - 1s 721us/step - loss: 163.0232\nEpoch 28/50\n721/721 [==============================] - 1s 745us/step - loss: 159.6237\nEpoch 29/50\n721/721 [==============================] - 1s 723us/step - loss: 156.4966\nEpoch 30/50\n721/721 [==============================] - 1s 746us/step - loss: 153.6459\nEpoch 31/50\n721/721 [==============================] - 1s 702us/step - loss: 151.0564\nEpoch 32/50\n721/721 [==============================] - 1s 718us/step - loss: 149.0019\nEpoch 33/50\n721/721 [==============================] - 1s 714us/step - loss: 146.5324\nEpoch 34/50\n721/721 [==============================] - 1s 745us/step - loss: 144.3879\nEpoch 35/50\n721/721 [==============================] - 1s 755us/step - loss: 142.3056\nEpoch 36/50\n721/721 [==============================] - 1s 738us/step - loss: 140.7732\nEpoch 37/50\n721/721 [==============================] - 1s 723us/step - loss: 138.9013\nEpoch 38/50\n721/721 [==============================] - 1s 720us/step - loss: 137.5951\nEpoch 39/50\n721/721 [==============================] - 1s 717us/step - loss: 136.7833\nEpoch 40/50\n721/721 [==============================] - 1s 717us/step - loss: 134.9005\nEpoch 41/50\n721/721 [==============================] - 1s 720us/step - loss: 133.4246 0s - loss: 14\nEpoch 42/50\n721/721 [==============================] - 1s 772us/step - loss: 132.1391\nEpoch 43/50\n721/721 [==============================] - 1s 699us/step - loss: 130.6664\nEpoch 44/50\n721/721 [==============================] - 1s 747us/step - loss: 129.5813\nEpoch 45/50\n721/721 [==============================] - 1s 804us/step - loss: 128.1810\nEpoch 46/50\n721/721 [==============================] - 1s 720us/step - loss: 127.0277\nEpoch 47/50\n721/721 [==============================] - 1s 744us/step - loss: 125.9371\nEpoch 48/50\n721/721 [==============================] - 1s 746us/step - loss: 124.5440\nEpoch 49/50\n721/721 [==============================] - 1s 722us/step - loss: 123.9063\nEpoch 50/50\n721/721 [==============================] - 0s 692us/step - loss: 122.2718\n"
                },
                {
                    "data": {
                        "text/plain": "<keras.callbacks.History at 0x7f04026258d0>"
                    },
                    "execution_count": 12,
                    "metadata": {},
                    "output_type": "execute_result"
                }
            ],
            "source": "# fit the model\nepochs = 50\nmodel.fit(X_train, y_train, epochs=epochs, verbose=1)"
        },
        {
            "cell_type": "markdown",
            "metadata": {},
            "source": "## Evaluate the model using test data"
        },
        {
            "cell_type": "code",
            "execution_count": 13,
            "metadata": {},
            "outputs": [
                {
                    "name": "stdout",
                    "output_type": "stream",
                    "text": "309/309 [==============================] - 0s 593us/step\n"
                },
                {
                    "data": {
                        "text/plain": "122.69514894948422"
                    },
                    "execution_count": 13,
                    "metadata": {},
                    "output_type": "execute_result"
                }
            ],
            "source": "\nloss_val = model.evaluate(X_test, y_test)\ny_pred = model.predict(X_test)\nloss_val\n"
        },
        {
            "cell_type": "code",
            "execution_count": 14,
            "metadata": {},
            "outputs": [
                {
                    "name": "stdout",
                    "output_type": "stream",
                    "text": "122.69515160705737 0.0\n"
                }
            ],
            "source": "#  compute the mean squared error between the predicted concrete strength and the actual concrete strength\nmean_square_error = mean_squared_error(y_test, y_pred)\nmean = np.mean(mean_square_error)\nstandard_deviation = np.std(mean_square_error)\nprint(mean, standard_deviation)"
        },
        {
            "cell_type": "code",
            "execution_count": 15,
            "metadata": {},
            "outputs": [
                {
                    "name": "stdout",
                    "output_type": "stream",
                    "text": "MSE 1: 93.48613156315578\nMSE 2: 74.14437058828409\nMSE 3: 53.64847905427507\nMSE 4: 44.084219009745084\nMSE 5: 39.33207804485432\nMSE 6: 38.765261097633335\nMSE 7: 37.52178772367706\nMSE 8: 38.553240877910724\nMSE 9: 36.21153221006918\nMSE 10: 35.39173233007536\nMSE 11: 34.77166920881055\nMSE 12: 34.28968367221672\nMSE 13: 34.69246522971341\nMSE 14: 35.729949599330865\nMSE 15: 33.94306302610725\nMSE 16: 34.39456410083956\nMSE 17: 34.850082483878026\nMSE 18: 33.745372154951866\nMSE 19: 34.657362348439236\nMSE 20: 34.52531176940523\nMSE 21: 34.8046997712268\nMSE 22: 36.677861611819964\nMSE 23: 36.99336019843142\nMSE 24: 34.64361538316054\nMSE 25: 34.998609339149255\nMSE 26: 34.42018234845504\nMSE 27: 35.046757904842835\nMSE 28: 35.28670566521802\nMSE 29: 36.140260770482925\nMSE 30: 35.12285405995391\nMSE 31: 35.53272231265565\nMSE 32: 35.082885760705445\nMSE 33: 35.7157764002729\nMSE 34: 35.958799880685156\nMSE 35: 34.83397344941074\nMSE 36: 35.38072471248294\nMSE 37: 35.699634712490834\nMSE 38: 36.22664443574677\nMSE 39: 36.25608283107721\nMSE 40: 35.698328666316655\nMSE 41: 35.298798743189344\nMSE 42: 35.21398489374945\nMSE 43: 35.10748522489973\nMSE 44: 34.80361376148212\nMSE 45: 36.494511916027875\nMSE 46: 38.37643743101447\nMSE 47: 35.713242367247545\nMSE 48: 35.486158624050304\nMSE 49: 36.027821716753024\nMSE 50: 35.25260573451959\n\n\nBelow is the mean and standard deviation of 50 mean squared errors without normalized data. Total number of epochs for each training is: 50\n\nMean: 38.10067085905152\nStandard Deviation: 9.990972385699923\n"
                }
            ],
            "source": "#Repeat steps 1 - 3, 50 times, i.e., create a list of 50 mean squared errors\ntotal_mse = 50\nepochs = 50\nmean_squared_errors = []\nfor i in range(0, total_mse):\n    #X_train, X_test, y_train, y_test = train_test_split(predictors, target, test_size=0.3, random_state=i)\n    model.fit(X_train, y_train, epochs=epochs, verbose=0)\n    MSE = model.evaluate(X_test, y_test, verbose=0)\n    print(\"MSE \"+str(i+1)+\": \"+str(MSE))\n    y_pred = model.predict(X_test)\n    mean_square_error = mean_squared_error(y_test, y_pred)\n    mean_squared_errors.append(mean_square_error)\n\nmean_squared_errors = np.array(mean_squared_errors)\nmean = np.mean(mean_squared_errors)\nstandard_deviation = np.std(mean_squared_errors)\n\nprint('\\n')\nprint(\"Below is the mean and standard deviation of \" +str(total_mse) + \" mean squared errors without normalized data. Total number of epochs for each training is: \" +str(epochs) + \"\\n\")\nprint(\"Mean: \"+str(mean))\nprint(\"Standard Deviation: \"+str(standard_deviation))"
        },
        {
            "cell_type": "markdown",
            "metadata": {},
            "source": "# Compared with step B, when there are three hidden layers, the mean is smaller and the standard deviation is smaller. So more hidden layers model is better and more epochs can train the model well"
        },
        {
            "cell_type": "code",
            "execution_count": null,
            "metadata": {},
            "outputs": [],
            "source": ""
        }
    ],
    "metadata": {
        "kernelspec": {
            "display_name": "Python 3.6",
            "language": "python",
            "name": "python3"
        },
        "language_info": {
            "codemirror_mode": {
                "name": "ipython",
                "version": 3
            },
            "file_extension": ".py",
            "mimetype": "text/x-python",
            "name": "python",
            "nbconvert_exporter": "python",
            "pygments_lexer": "ipython3",
            "version": "3.6.9"
        }
    },
    "nbformat": 4,
    "nbformat_minor": 1
}