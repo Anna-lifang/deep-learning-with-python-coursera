{
    "cells": [
        {
            "cell_type": "markdown",
            "metadata": {},
            "source": "# Download and Clean Dataset"
        },
        {
            "cell_type": "code",
            "execution_count": 1,
            "metadata": {},
            "outputs": [],
            "source": "import pandas as pd\nimport numpy as np"
        },
        {
            "cell_type": "markdown",
            "metadata": {},
            "source": "## Let's download the data and read it into a pandas dataframe."
        },
        {
            "cell_type": "code",
            "execution_count": 2,
            "metadata": {},
            "outputs": [
                {
                    "data": {
                        "text/html": "<div>\n<style scoped>\n    .dataframe tbody tr th:only-of-type {\n        vertical-align: middle;\n    }\n\n    .dataframe tbody tr th {\n        vertical-align: top;\n    }\n\n    .dataframe thead th {\n        text-align: right;\n    }\n</style>\n<table border=\"1\" class=\"dataframe\">\n  <thead>\n    <tr style=\"text-align: right;\">\n      <th></th>\n      <th>Cement</th>\n      <th>Blast Furnace Slag</th>\n      <th>Fly Ash</th>\n      <th>Water</th>\n      <th>Superplasticizer</th>\n      <th>Coarse Aggregate</th>\n      <th>Fine Aggregate</th>\n      <th>Age</th>\n      <th>Strength</th>\n    </tr>\n  </thead>\n  <tbody>\n    <tr>\n      <th>0</th>\n      <td>540.0</td>\n      <td>0.0</td>\n      <td>0.0</td>\n      <td>162.0</td>\n      <td>2.5</td>\n      <td>1040.0</td>\n      <td>676.0</td>\n      <td>28</td>\n      <td>79.99</td>\n    </tr>\n    <tr>\n      <th>1</th>\n      <td>540.0</td>\n      <td>0.0</td>\n      <td>0.0</td>\n      <td>162.0</td>\n      <td>2.5</td>\n      <td>1055.0</td>\n      <td>676.0</td>\n      <td>28</td>\n      <td>61.89</td>\n    </tr>\n    <tr>\n      <th>2</th>\n      <td>332.5</td>\n      <td>142.5</td>\n      <td>0.0</td>\n      <td>228.0</td>\n      <td>0.0</td>\n      <td>932.0</td>\n      <td>594.0</td>\n      <td>270</td>\n      <td>40.27</td>\n    </tr>\n    <tr>\n      <th>3</th>\n      <td>332.5</td>\n      <td>142.5</td>\n      <td>0.0</td>\n      <td>228.0</td>\n      <td>0.0</td>\n      <td>932.0</td>\n      <td>594.0</td>\n      <td>365</td>\n      <td>41.05</td>\n    </tr>\n    <tr>\n      <th>4</th>\n      <td>198.6</td>\n      <td>132.4</td>\n      <td>0.0</td>\n      <td>192.0</td>\n      <td>0.0</td>\n      <td>978.4</td>\n      <td>825.5</td>\n      <td>360</td>\n      <td>44.30</td>\n    </tr>\n  </tbody>\n</table>\n</div>",
                        "text/plain": "   Cement  Blast Furnace Slag  Fly Ash  Water  Superplasticizer  \\\n0   540.0                 0.0      0.0  162.0               2.5   \n1   540.0                 0.0      0.0  162.0               2.5   \n2   332.5               142.5      0.0  228.0               0.0   \n3   332.5               142.5      0.0  228.0               0.0   \n4   198.6               132.4      0.0  192.0               0.0   \n\n   Coarse Aggregate  Fine Aggregate  Age  Strength  \n0            1040.0           676.0   28     79.99  \n1            1055.0           676.0   28     61.89  \n2             932.0           594.0  270     40.27  \n3             932.0           594.0  365     41.05  \n4             978.4           825.5  360     44.30  "
                    },
                    "execution_count": 2,
                    "metadata": {},
                    "output_type": "execute_result"
                }
            ],
            "source": "concrete_data = pd.read_csv('https://s3-api.us-geo.objectstorage.softlayer.net/cf-courses-data/CognitiveClass/DL0101EN/labs/data/concrete_data.csv')\nconcrete_data.head()"
        },
        {
            "cell_type": "markdown",
            "metadata": {},
            "source": "## Let's check how many data points we have."
        },
        {
            "cell_type": "code",
            "execution_count": 3,
            "metadata": {},
            "outputs": [
                {
                    "data": {
                        "text/plain": "(1030, 9)"
                    },
                    "execution_count": 3,
                    "metadata": {},
                    "output_type": "execute_result"
                }
            ],
            "source": "concrete_data.shape"
        },
        {
            "cell_type": "markdown",
            "metadata": {},
            "source": "## Let's check the dataset for any missing values."
        },
        {
            "cell_type": "code",
            "execution_count": 4,
            "metadata": {},
            "outputs": [
                {
                    "data": {
                        "text/plain": "Cement                0\nBlast Furnace Slag    0\nFly Ash               0\nWater                 0\nSuperplasticizer      0\nCoarse Aggregate      0\nFine Aggregate        0\nAge                   0\nStrength              0\ndtype: int64"
                    },
                    "execution_count": 4,
                    "metadata": {},
                    "output_type": "execute_result"
                }
            ],
            "source": "concrete_data.isnull().sum()"
        },
        {
            "cell_type": "markdown",
            "metadata": {},
            "source": "## Split data into predictors and target"
        },
        {
            "cell_type": "code",
            "execution_count": 5,
            "metadata": {},
            "outputs": [],
            "source": "concrete_data_columns = concrete_data.columns\n\npredictors = concrete_data[concrete_data_columns[concrete_data_columns != 'Strength']] # all columns except Strength\ntarget = concrete_data['Strength'] # Strength column"
        },
        {
            "cell_type": "markdown",
            "metadata": {},
            "source": "## Normalize the data is by subtracting the mean from the individual predictors and dividing by the standard deviation."
        },
        {
            "cell_type": "code",
            "execution_count": 6,
            "metadata": {},
            "outputs": [
                {
                    "data": {
                        "text/html": "<div>\n<style scoped>\n    .dataframe tbody tr th:only-of-type {\n        vertical-align: middle;\n    }\n\n    .dataframe tbody tr th {\n        vertical-align: top;\n    }\n\n    .dataframe thead th {\n        text-align: right;\n    }\n</style>\n<table border=\"1\" class=\"dataframe\">\n  <thead>\n    <tr style=\"text-align: right;\">\n      <th></th>\n      <th>Cement</th>\n      <th>Blast Furnace Slag</th>\n      <th>Fly Ash</th>\n      <th>Water</th>\n      <th>Superplasticizer</th>\n      <th>Coarse Aggregate</th>\n      <th>Fine Aggregate</th>\n      <th>Age</th>\n    </tr>\n  </thead>\n  <tbody>\n    <tr>\n      <th>0</th>\n      <td>2.476712</td>\n      <td>-0.856472</td>\n      <td>-0.846733</td>\n      <td>-0.916319</td>\n      <td>-0.620147</td>\n      <td>0.862735</td>\n      <td>-1.217079</td>\n      <td>-0.279597</td>\n    </tr>\n    <tr>\n      <th>1</th>\n      <td>2.476712</td>\n      <td>-0.856472</td>\n      <td>-0.846733</td>\n      <td>-0.916319</td>\n      <td>-0.620147</td>\n      <td>1.055651</td>\n      <td>-1.217079</td>\n      <td>-0.279597</td>\n    </tr>\n    <tr>\n      <th>2</th>\n      <td>0.491187</td>\n      <td>0.795140</td>\n      <td>-0.846733</td>\n      <td>2.174405</td>\n      <td>-1.038638</td>\n      <td>-0.526262</td>\n      <td>-2.239829</td>\n      <td>3.551340</td>\n    </tr>\n    <tr>\n      <th>3</th>\n      <td>0.491187</td>\n      <td>0.795140</td>\n      <td>-0.846733</td>\n      <td>2.174405</td>\n      <td>-1.038638</td>\n      <td>-0.526262</td>\n      <td>-2.239829</td>\n      <td>5.055221</td>\n    </tr>\n    <tr>\n      <th>4</th>\n      <td>-0.790075</td>\n      <td>0.678079</td>\n      <td>-0.846733</td>\n      <td>0.488555</td>\n      <td>-1.038638</td>\n      <td>0.070492</td>\n      <td>0.647569</td>\n      <td>4.976069</td>\n    </tr>\n  </tbody>\n</table>\n</div>",
                        "text/plain": "     Cement  Blast Furnace Slag   Fly Ash     Water  Superplasticizer  \\\n0  2.476712           -0.856472 -0.846733 -0.916319         -0.620147   \n1  2.476712           -0.856472 -0.846733 -0.916319         -0.620147   \n2  0.491187            0.795140 -0.846733  2.174405         -1.038638   \n3  0.491187            0.795140 -0.846733  2.174405         -1.038638   \n4 -0.790075            0.678079 -0.846733  0.488555         -1.038638   \n\n   Coarse Aggregate  Fine Aggregate       Age  \n0          0.862735       -1.217079 -0.279597  \n1          1.055651       -1.217079 -0.279597  \n2         -0.526262       -2.239829  3.551340  \n3         -0.526262       -2.239829  5.055221  \n4          0.070492        0.647569  4.976069  "
                    },
                    "execution_count": 6,
                    "metadata": {},
                    "output_type": "execute_result"
                }
            ],
            "source": "predictors_norm = (predictors - predictors.mean()) / predictors.std()\npredictors_norm.head()"
        },
        {
            "cell_type": "code",
            "execution_count": 7,
            "metadata": {},
            "outputs": [
                {
                    "data": {
                        "text/plain": "8"
                    },
                    "execution_count": 7,
                    "metadata": {},
                    "output_type": "execute_result"
                }
            ],
            "source": "n_cols = predictors_norm.shape[1] # number of predictors\nn_cols"
        },
        {
            "cell_type": "markdown",
            "metadata": {},
            "source": "## import the libraries"
        },
        {
            "cell_type": "code",
            "execution_count": 8,
            "metadata": {},
            "outputs": [
                {
                    "name": "stderr",
                    "output_type": "stream",
                    "text": "Using TensorFlow backend.\n"
                }
            ],
            "source": "from sklearn.model_selection import train_test_split\nfrom sklearn.metrics import mean_squared_error\nfrom sklearn.metrics import r2_score\n\nimport keras\n\nfrom keras.models import Sequential\nfrom keras.layers import Dense\nfrom sklearn.metrics import mean_squared_error"
        },
        {
            "cell_type": "markdown",
            "metadata": {},
            "source": "# Part A Build a baseline model"
        },
        {
            "cell_type": "markdown",
            "metadata": {},
            "source": "## Randomly split the data into a training and test sets by holding 30% of the data for testing."
        },
        {
            "cell_type": "code",
            "execution_count": 9,
            "metadata": {},
            "outputs": [],
            "source": "X_train, X_test, y_train, y_test = train_test_split(predictors_norm, target, test_size=0.3, random_state=42)"
        },
        {
            "cell_type": "code",
            "execution_count": 10,
            "metadata": {},
            "outputs": [],
            "source": "#build the regression model\ndef regression_model():\n    # create model\n    model = Sequential()\n    model.add(Dense(10, activation='relu', input_shape=(n_cols,)))\n    model.add(Dense(1))\n    \n    # compile model\n    model.compile(optimizer='adam', loss='mean_squared_error')\n    return model"
        },
        {
            "cell_type": "markdown",
            "metadata": {},
            "source": "## Train and test the model"
        },
        {
            "cell_type": "code",
            "execution_count": 11,
            "metadata": {},
            "outputs": [
                {
                    "name": "stdout",
                    "output_type": "stream",
                    "text": "WARNING:tensorflow:From /opt/conda/envs/Python36/lib/python3.6/site-packages/tensorflow/python/framework/op_def_library.py:263: colocate_with (from tensorflow.python.framework.ops) is deprecated and will be removed in a future version.\nInstructions for updating:\nColocations handled automatically by placer.\n"
                }
            ],
            "source": "model = regression_model()"
        },
        {
            "cell_type": "markdown",
            "metadata": {},
            "source": "## Train the model with 50 epoachs"
        },
        {
            "cell_type": "code",
            "execution_count": 12,
            "metadata": {},
            "outputs": [
                {
                    "name": "stdout",
                    "output_type": "stream",
                    "text": "WARNING:tensorflow:From /opt/conda/envs/Python36/lib/python3.6/site-packages/tensorflow/python/ops/math_ops.py:3066: to_int32 (from tensorflow.python.ops.math_ops) is deprecated and will be removed in a future version.\nInstructions for updating:\nUse tf.cast instead.\nEpoch 1/100\n721/721 [==============================] - 1s 824us/step - loss: 1603.5347\nEpoch 2/100\n721/721 [==============================] - 0s 126us/step - loss: 1588.4648\nEpoch 3/100\n721/721 [==============================] - 0s 161us/step - loss: 1573.4786\nEpoch 4/100\n721/721 [==============================] - 0s 142us/step - loss: 1558.2746\nEpoch 5/100\n721/721 [==============================] - 0s 144us/step - loss: 1542.9581\nEpoch 6/100\n721/721 [==============================] - 0s 135us/step - loss: 1527.1333\nEpoch 7/100\n721/721 [==============================] - 0s 165us/step - loss: 1511.0905\nEpoch 8/100\n721/721 [==============================] - 0s 119us/step - loss: 1494.1659\nEpoch 9/100\n721/721 [==============================] - 0s 132us/step - loss: 1477.0124\nEpoch 10/100\n721/721 [==============================] - 0s 136us/step - loss: 1458.8929\nEpoch 11/100\n721/721 [==============================] - 0s 138us/step - loss: 1439.9727\nEpoch 12/100\n721/721 [==============================] - 0s 143us/step - loss: 1419.4636\nEpoch 13/100\n721/721 [==============================] - 0s 138us/step - loss: 1398.1394\nEpoch 14/100\n721/721 [==============================] - 0s 119us/step - loss: 1375.5524\nEpoch 15/100\n721/721 [==============================] - 0s 156us/step - loss: 1351.6611\nEpoch 16/100\n721/721 [==============================] - 0s 145us/step - loss: 1326.5143\nEpoch 17/100\n721/721 [==============================] - 0s 111us/step - loss: 1300.1106\nEpoch 18/100\n721/721 [==============================] - 0s 154us/step - loss: 1272.9284\nEpoch 19/100\n721/721 [==============================] - 0s 140us/step - loss: 1243.8747\nEpoch 20/100\n721/721 [==============================] - 0s 140us/step - loss: 1214.8909\nEpoch 21/100\n721/721 [==============================] - 0s 136us/step - loss: 1184.4725\nEpoch 22/100\n721/721 [==============================] - 0s 139us/step - loss: 1154.1788\nEpoch 23/100\n721/721 [==============================] - 0s 139us/step - loss: 1123.2781\nEpoch 24/100\n721/721 [==============================] - 0s 138us/step - loss: 1091.4794\nEpoch 25/100\n721/721 [==============================] - 0s 136us/step - loss: 1059.8800\nEpoch 26/100\n721/721 [==============================] - 0s 150us/step - loss: 1028.3538\nEpoch 27/100\n721/721 [==============================] - 0s 126us/step - loss: 996.4892\nEpoch 28/100\n721/721 [==============================] - 0s 143us/step - loss: 964.9469\nEpoch 29/100\n721/721 [==============================] - 0s 130us/step - loss: 932.9910\nEpoch 30/100\n721/721 [==============================] - 0s 141us/step - loss: 901.8014\nEpoch 31/100\n721/721 [==============================] - 0s 145us/step - loss: 870.7995\nEpoch 32/100\n721/721 [==============================] - 0s 132us/step - loss: 840.0460\nEpoch 33/100\n721/721 [==============================] - 0s 155us/step - loss: 809.6576\nEpoch 34/100\n721/721 [==============================] - 0s 139us/step - loss: 779.7931\nEpoch 35/100\n721/721 [==============================] - 0s 140us/step - loss: 750.7273\nEpoch 36/100\n721/721 [==============================] - 0s 189us/step - loss: 722.1756\nEpoch 37/100\n721/721 [==============================] - 0s 139us/step - loss: 693.5282\nEpoch 38/100\n721/721 [==============================] - 0s 139us/step - loss: 666.2789\nEpoch 39/100\n721/721 [==============================] - 0s 136us/step - loss: 638.9617\nEpoch 40/100\n721/721 [==============================] - 0s 143us/step - loss: 612.9605\nEpoch 41/100\n721/721 [==============================] - 0s 138us/step - loss: 587.4482\nEpoch 42/100\n721/721 [==============================] - 0s 138us/step - loss: 562.6349\nEpoch 43/100\n721/721 [==============================] - 0s 140us/step - loss: 538.4761\nEpoch 44/100\n721/721 [==============================] - 0s 120us/step - loss: 515.8678\nEpoch 45/100\n721/721 [==============================] - 0s 145us/step - loss: 493.5614\nEpoch 46/100\n721/721 [==============================] - 0s 129us/step - loss: 471.7327\nEpoch 47/100\n721/721 [==============================] - 0s 138us/step - loss: 451.4429\nEpoch 48/100\n721/721 [==============================] - 0s 137us/step - loss: 431.3134\nEpoch 49/100\n721/721 [==============================] - 0s 143us/step - loss: 412.8893\nEpoch 50/100\n721/721 [==============================] - 0s 132us/step - loss: 395.3224\nEpoch 51/100\n721/721 [==============================] - 0s 140us/step - loss: 378.1194\nEpoch 52/100\n721/721 [==============================] - 0s 136us/step - loss: 362.7582\nEpoch 53/100\n721/721 [==============================] - 0s 135us/step - loss: 347.5329\nEpoch 54/100\n721/721 [==============================] - 0s 143us/step - loss: 333.4010\nEpoch 55/100\n721/721 [==============================] - 0s 134us/step - loss: 320.4212\nEpoch 56/100\n721/721 [==============================] - 0s 140us/step - loss: 308.4085\nEpoch 57/100\n721/721 [==============================] - 0s 138us/step - loss: 296.7852\nEpoch 58/100\n721/721 [==============================] - ETA: 0s - loss: 286.610 - 0s 140us/step - loss: 286.3918\nEpoch 59/100\n721/721 [==============================] - 0s 145us/step - loss: 276.6295\nEpoch 60/100\n721/721 [==============================] - 0s 134us/step - loss: 267.7462\nEpoch 61/100\n721/721 [==============================] - 0s 142us/step - loss: 259.7307 0s - loss: 274.465\nEpoch 62/100\n721/721 [==============================] - 0s 135us/step - loss: 252.0654\nEpoch 63/100\n721/721 [==============================] - 0s 137us/step - loss: 245.5278\nEpoch 64/100\n721/721 [==============================] - 0s 140us/step - loss: 239.0887\nEpoch 65/100\n721/721 [==============================] - 0s 140us/step - loss: 233.6611\nEpoch 66/100\n721/721 [==============================] - 0s 135us/step - loss: 228.4307\nEpoch 67/100\n721/721 [==============================] - 0s 138us/step - loss: 223.8613\nEpoch 68/100\n721/721 [==============================] - 0s 139us/step - loss: 219.8307\nEpoch 69/100\n721/721 [==============================] - 0s 138us/step - loss: 215.7904\nEpoch 70/100\n721/721 [==============================] - 0s 140us/step - loss: 212.3749\nEpoch 71/100\n721/721 [==============================] - 0s 138us/step - loss: 209.0444\nEpoch 72/100\n721/721 [==============================] - 0s 141us/step - loss: 206.1584\nEpoch 73/100\n721/721 [==============================] - 0s 137us/step - loss: 203.4266\nEpoch 74/100\n721/721 [==============================] - 0s 140us/step - loss: 200.9697\nEpoch 75/100\n721/721 [==============================] - 0s 137us/step - loss: 198.7264\nEpoch 76/100\n721/721 [==============================] - 0s 138us/step - loss: 196.4239\nEpoch 77/100\n721/721 [==============================] - 0s 138us/step - loss: 194.4315\nEpoch 78/100\n721/721 [==============================] - 0s 136us/step - loss: 192.3099\nEpoch 79/100\n721/721 [==============================] - 0s 141us/step - loss: 190.5158\nEpoch 80/100\n721/721 [==============================] - 0s 137us/step - loss: 188.5837\nEpoch 81/100\n721/721 [==============================] - 0s 141us/step - loss: 186.9717\nEpoch 82/100\n721/721 [==============================] - 0s 156us/step - loss: 185.4181\nEpoch 83/100\n721/721 [==============================] - 0s 116us/step - loss: 183.9641\nEpoch 84/100\n721/721 [==============================] - 0s 156us/step - loss: 182.4573\nEpoch 85/100\n721/721 [==============================] - 0s 141us/step - loss: 181.1082\nEpoch 86/100\n721/721 [==============================] - 0s 138us/step - loss: 179.7007\nEpoch 87/100\n721/721 [==============================] - 0s 147us/step - loss: 178.4099\nEpoch 88/100\n721/721 [==============================] - 0s 142us/step - loss: 177.0457\nEpoch 89/100\n721/721 [==============================] - 0s 126us/step - loss: 175.8220\nEpoch 90/100\n721/721 [==============================] - 0s 138us/step - loss: 174.5246\nEpoch 91/100\n721/721 [==============================] - 0s 135us/step - loss: 173.2875\nEpoch 92/100\n721/721 [==============================] - 0s 136us/step - loss: 172.0508\nEpoch 93/100\n721/721 [==============================] - 0s 132us/step - loss: 170.9270\nEpoch 94/100\n721/721 [==============================] - 0s 200us/step - loss: 169.8138\nEpoch 95/100\n721/721 [==============================] - 0s 160us/step - loss: 168.7163\nEpoch 96/100\n721/721 [==============================] - 0s 198us/step - loss: 167.6122\nEpoch 97/100\n721/721 [==============================] - 0s 134us/step - loss: 166.5044\nEpoch 98/100\n721/721 [==============================] - 0s 140us/step - loss: 165.4468\nEpoch 99/100\n721/721 [==============================] - 0s 139us/step - loss: 164.3493\nEpoch 100/100\n721/721 [==============================] - 0s 133us/step - loss: 163.3191\n"
                },
                {
                    "data": {
                        "text/plain": "<keras.callbacks.History at 0x7fca29ea9f28>"
                    },
                    "execution_count": 12,
                    "metadata": {},
                    "output_type": "execute_result"
                }
            ],
            "source": "# fit the model\nepochs = 100\nmodel.fit(X_train, y_train, epochs=epochs, verbose=1)"
        },
        {
            "cell_type": "markdown",
            "metadata": {},
            "source": "## Evaluate the model using test data"
        },
        {
            "cell_type": "code",
            "execution_count": 14,
            "metadata": {},
            "outputs": [
                {
                    "name": "stdout",
                    "output_type": "stream",
                    "text": "309/309 [==============================] - 0s 112us/step\n"
                },
                {
                    "data": {
                        "text/plain": "167.74194207546395"
                    },
                    "execution_count": 14,
                    "metadata": {},
                    "output_type": "execute_result"
                }
            ],
            "source": "\nloss_val = model.evaluate(X_test, y_test)\ny_pred = model.predict(X_test)\nloss_val\n"
        },
        {
            "cell_type": "code",
            "execution_count": 15,
            "metadata": {},
            "outputs": [
                {
                    "name": "stdout",
                    "output_type": "stream",
                    "text": "167.741944211972 0.0\n"
                }
            ],
            "source": "#  compute the mean squared error between the predicted concrete strength and the actual concrete strength\nmean_square_error = mean_squared_error(y_test, y_pred)\nmean = np.mean(mean_square_error)\nstandard_deviation = np.std(mean_square_error)\nprint(mean, standard_deviation)"
        },
        {
            "cell_type": "code",
            "execution_count": 16,
            "metadata": {},
            "outputs": [
                {
                    "name": "stdout",
                    "output_type": "stream",
                    "text": "MSE 1: 85.72862596727883\nMSE 2: 60.90348075200053\nMSE 3: 52.49275801328394\nMSE 4: 46.76216730407912\nMSE 5: 43.84716040725461\nMSE 6: 42.166536448457094\nMSE 7: 40.77121529687184\nMSE 8: 39.66213432484846\nMSE 9: 39.08243698441095\nMSE 10: 38.56894680134301\nMSE 11: 38.55901354570605\nMSE 12: 38.689052297845244\nMSE 13: 38.89058317412836\nMSE 14: 38.444651156181656\nMSE 15: 38.51270421346029\nMSE 16: 38.645508744570044\nMSE 17: 38.01266866517298\nMSE 18: 37.81101424331418\nMSE 19: 37.79968315420799\nMSE 20: 37.26895350854374\nMSE 21: 37.392743280404595\nMSE 22: 37.07285324886779\nMSE 23: 37.27163257413697\nMSE 24: 37.17663140281505\nMSE 25: 36.835530413778855\nMSE 26: 37.22119810357449\nMSE 27: 37.088622009869916\nMSE 28: 37.247510138453016\nMSE 29: 37.314227391215205\nMSE 30: 37.170529461215615\nMSE 31: 37.12240095663225\nMSE 32: 37.30655509059869\nMSE 33: 36.98660403007828\nMSE 34: 36.816914524461076\nMSE 35: 36.82459102247911\nMSE 36: 36.90260649498998\nMSE 37: 36.9545621964538\nMSE 38: 37.20225523667814\nMSE 39: 37.06622911348312\nMSE 40: 37.033690449489356\nMSE 41: 37.09218247422894\nMSE 42: 36.932411218538256\nMSE 43: 37.03956736098601\nMSE 44: 36.82538844235121\nMSE 45: 36.891893325114324\nMSE 46: 36.51470121365149\nMSE 47: 36.266001932829326\nMSE 48: 36.27575462612905\nMSE 49: 36.109796351213674\nMSE 50: 36.267847684594805\n\n\nBelow is the mean and standard deviation of 50 mean squared errors without normalized data. Total number of epochs for each training is: 100\n\nMean: 39.61685509681342\nStandard Deviation: 7.825927866411705\n"
                }
            ],
            "source": "#Repeat steps 1 - 3, 50 times, i.e., create a list of 50 mean squared errors\ntotal_mse = 50\nepochs = 100\nmean_squared_errors = []\nfor i in range(0, total_mse):\n    #X_train, X_test, y_train, y_test = train_test_split(predictors, target, test_size=0.3, random_state=i)\n    model.fit(X_train, y_train, epochs=epochs, verbose=0)\n    MSE = model.evaluate(X_test, y_test, verbose=0)\n    print(\"MSE \"+str(i+1)+\": \"+str(MSE))\n    y_pred = model.predict(X_test)\n    mean_square_error = mean_squared_error(y_test, y_pred)\n    mean_squared_errors.append(mean_square_error)\n\nmean_squared_errors = np.array(mean_squared_errors)\nmean = np.mean(mean_squared_errors)\nstandard_deviation = np.std(mean_squared_errors)\n\nprint('\\n')\nprint(\"Below is the mean and standard deviation of \" +str(total_mse) + \" mean squared errors without normalized data. Total number of epochs for each training is: \" +str(epochs) + \"\\n\")\nprint(\"Mean: \"+str(mean))\nprint(\"Standard Deviation: \"+str(standard_deviation))"
        },
        {
            "cell_type": "markdown",
            "metadata": {},
            "source": "# Compared with partB, when increasing the epochs, the mean is smaller and the standard deviation is smaller"
        },
        {
            "cell_type": "code",
            "execution_count": null,
            "metadata": {},
            "outputs": [],
            "source": ""
        }
    ],
    "metadata": {
        "kernelspec": {
            "display_name": "Python 3.6",
            "language": "python",
            "name": "python3"
        },
        "language_info": {
            "codemirror_mode": {
                "name": "ipython",
                "version": 3
            },
            "file_extension": ".py",
            "mimetype": "text/x-python",
            "name": "python",
            "nbconvert_exporter": "python",
            "pygments_lexer": "ipython3",
            "version": "3.6.9"
        }
    },
    "nbformat": 4,
    "nbformat_minor": 1
}