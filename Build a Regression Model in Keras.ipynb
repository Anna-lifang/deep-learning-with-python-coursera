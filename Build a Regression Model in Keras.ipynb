{
    "cells": [
        {
            "cell_type": "markdown",
            "metadata": {},
            "source": "# Download and Clean Dataset"
        },
        {
            "cell_type": "code",
            "execution_count": 1,
            "metadata": {},
            "outputs": [],
            "source": "import pandas as pd\nimport numpy as np"
        },
        {
            "cell_type": "markdown",
            "metadata": {},
            "source": "## Let's download the data and read it into a pandas dataframe."
        },
        {
            "cell_type": "code",
            "execution_count": 2,
            "metadata": {},
            "outputs": [
                {
                    "data": {
                        "text/html": "<div>\n<style scoped>\n    .dataframe tbody tr th:only-of-type {\n        vertical-align: middle;\n    }\n\n    .dataframe tbody tr th {\n        vertical-align: top;\n    }\n\n    .dataframe thead th {\n        text-align: right;\n    }\n</style>\n<table border=\"1\" class=\"dataframe\">\n  <thead>\n    <tr style=\"text-align: right;\">\n      <th></th>\n      <th>Cement</th>\n      <th>Blast Furnace Slag</th>\n      <th>Fly Ash</th>\n      <th>Water</th>\n      <th>Superplasticizer</th>\n      <th>Coarse Aggregate</th>\n      <th>Fine Aggregate</th>\n      <th>Age</th>\n      <th>Strength</th>\n    </tr>\n  </thead>\n  <tbody>\n    <tr>\n      <th>0</th>\n      <td>540.0</td>\n      <td>0.0</td>\n      <td>0.0</td>\n      <td>162.0</td>\n      <td>2.5</td>\n      <td>1040.0</td>\n      <td>676.0</td>\n      <td>28</td>\n      <td>79.99</td>\n    </tr>\n    <tr>\n      <th>1</th>\n      <td>540.0</td>\n      <td>0.0</td>\n      <td>0.0</td>\n      <td>162.0</td>\n      <td>2.5</td>\n      <td>1055.0</td>\n      <td>676.0</td>\n      <td>28</td>\n      <td>61.89</td>\n    </tr>\n    <tr>\n      <th>2</th>\n      <td>332.5</td>\n      <td>142.5</td>\n      <td>0.0</td>\n      <td>228.0</td>\n      <td>0.0</td>\n      <td>932.0</td>\n      <td>594.0</td>\n      <td>270</td>\n      <td>40.27</td>\n    </tr>\n    <tr>\n      <th>3</th>\n      <td>332.5</td>\n      <td>142.5</td>\n      <td>0.0</td>\n      <td>228.0</td>\n      <td>0.0</td>\n      <td>932.0</td>\n      <td>594.0</td>\n      <td>365</td>\n      <td>41.05</td>\n    </tr>\n    <tr>\n      <th>4</th>\n      <td>198.6</td>\n      <td>132.4</td>\n      <td>0.0</td>\n      <td>192.0</td>\n      <td>0.0</td>\n      <td>978.4</td>\n      <td>825.5</td>\n      <td>360</td>\n      <td>44.30</td>\n    </tr>\n  </tbody>\n</table>\n</div>",
                        "text/plain": "   Cement  Blast Furnace Slag  Fly Ash  Water  Superplasticizer  \\\n0   540.0                 0.0      0.0  162.0               2.5   \n1   540.0                 0.0      0.0  162.0               2.5   \n2   332.5               142.5      0.0  228.0               0.0   \n3   332.5               142.5      0.0  228.0               0.0   \n4   198.6               132.4      0.0  192.0               0.0   \n\n   Coarse Aggregate  Fine Aggregate  Age  Strength  \n0            1040.0           676.0   28     79.99  \n1            1055.0           676.0   28     61.89  \n2             932.0           594.0  270     40.27  \n3             932.0           594.0  365     41.05  \n4             978.4           825.5  360     44.30  "
                    },
                    "execution_count": 2,
                    "metadata": {},
                    "output_type": "execute_result"
                }
            ],
            "source": "concrete_data = pd.read_csv('https://s3-api.us-geo.objectstorage.softlayer.net/cf-courses-data/CognitiveClass/DL0101EN/labs/data/concrete_data.csv')\nconcrete_data.head()"
        },
        {
            "cell_type": "markdown",
            "metadata": {},
            "source": "## Let's check how many data points we have."
        },
        {
            "cell_type": "code",
            "execution_count": 3,
            "metadata": {},
            "outputs": [
                {
                    "data": {
                        "text/plain": "(1030, 9)"
                    },
                    "execution_count": 3,
                    "metadata": {},
                    "output_type": "execute_result"
                }
            ],
            "source": "concrete_data.shape"
        },
        {
            "cell_type": "markdown",
            "metadata": {},
            "source": "## Let's check the dataset for any missing values."
        },
        {
            "cell_type": "code",
            "execution_count": 4,
            "metadata": {},
            "outputs": [
                {
                    "data": {
                        "text/plain": "Cement                0\nBlast Furnace Slag    0\nFly Ash               0\nWater                 0\nSuperplasticizer      0\nCoarse Aggregate      0\nFine Aggregate        0\nAge                   0\nStrength              0\ndtype: int64"
                    },
                    "execution_count": 4,
                    "metadata": {},
                    "output_type": "execute_result"
                }
            ],
            "source": "concrete_data.isnull().sum()"
        },
        {
            "cell_type": "markdown",
            "metadata": {},
            "source": "## Split data into predictors and target"
        },
        {
            "cell_type": "code",
            "execution_count": 7,
            "metadata": {},
            "outputs": [],
            "source": "concrete_data_columns = concrete_data.columns\n\npredictors = concrete_data[concrete_data_columns[concrete_data_columns != 'Strength']] # all columns except Strength\ntarget = concrete_data['Strength'] # Strength column"
        },
        {
            "cell_type": "code",
            "execution_count": 10,
            "metadata": {},
            "outputs": [
                {
                    "data": {
                        "text/plain": "8"
                    },
                    "execution_count": 10,
                    "metadata": {},
                    "output_type": "execute_result"
                }
            ],
            "source": "n_cols = predictors.shape[1] # number of predictors\nn_cols"
        },
        {
            "cell_type": "markdown",
            "metadata": {},
            "source": "## import the libraries"
        },
        {
            "cell_type": "code",
            "execution_count": 19,
            "metadata": {},
            "outputs": [],
            "source": "from sklearn.model_selection import train_test_split\nfrom sklearn.metrics import mean_squared_error\nfrom sklearn.metrics import r2_score\n\nimport keras\n\nfrom keras.models import Sequential\nfrom keras.layers import Dense\nfrom sklearn.metrics import mean_squared_error"
        },
        {
            "cell_type": "markdown",
            "metadata": {},
            "source": "# Part A Build a baseline model"
        },
        {
            "cell_type": "markdown",
            "metadata": {},
            "source": "## Randomly split the data into a training and test sets by holding 30% of the data for testing."
        },
        {
            "cell_type": "code",
            "execution_count": 9,
            "metadata": {},
            "outputs": [],
            "source": "X_train, X_test, y_train, y_test = train_test_split(predictors, target, test_size=0.3, random_state=42)"
        },
        {
            "cell_type": "code",
            "execution_count": 11,
            "metadata": {},
            "outputs": [],
            "source": "#build the regression model\ndef regression_model():\n    # create model\n    model = Sequential()\n    model.add(Dense(10, activation='relu', input_shape=(n_cols,)))\n    model.add(Dense(1))\n    \n    # compile model\n    model.compile(optimizer='adam', loss='mean_squared_error')\n    return model"
        },
        {
            "cell_type": "markdown",
            "metadata": {},
            "source": "## Train and test the model"
        },
        {
            "cell_type": "code",
            "execution_count": 12,
            "metadata": {},
            "outputs": [
                {
                    "name": "stdout",
                    "output_type": "stream",
                    "text": "WARNING:tensorflow:From /opt/conda/envs/Python36/lib/python3.6/site-packages/tensorflow/python/framework/op_def_library.py:263: colocate_with (from tensorflow.python.framework.ops) is deprecated and will be removed in a future version.\nInstructions for updating:\nColocations handled automatically by placer.\n"
                }
            ],
            "source": "model = regression_model()"
        },
        {
            "cell_type": "markdown",
            "metadata": {},
            "source": "## Train the model with 50 epoachs"
        },
        {
            "cell_type": "code",
            "execution_count": 21,
            "metadata": {},
            "outputs": [
                {
                    "name": "stdout",
                    "output_type": "stream",
                    "text": "Epoch 1/50\n721/721 [==============================] - 0s 117us/step - loss: 114.9335\nEpoch 2/50\n721/721 [==============================] - 0s 136us/step - loss: 113.5940\nEpoch 3/50\n721/721 [==============================] - 0s 136us/step - loss: 114.4695\nEpoch 4/50\n721/721 [==============================] - 0s 139us/step - loss: 111.7171\nEpoch 5/50\n721/721 [==============================] - 0s 136us/step - loss: 111.9357\nEpoch 6/50\n721/721 [==============================] - 0s 141us/step - loss: 112.6178\nEpoch 7/50\n721/721 [==============================] - 0s 131us/step - loss: 112.0181\nEpoch 8/50\n721/721 [==============================] - 0s 137us/step - loss: 112.5459\nEpoch 9/50\n721/721 [==============================] - 0s 142us/step - loss: 111.6595\nEpoch 10/50\n721/721 [==============================] - 0s 135us/step - loss: 110.1273\nEpoch 11/50\n721/721 [==============================] - 0s 147us/step - loss: 109.9006\nEpoch 12/50\n721/721 [==============================] - 0s 152us/step - loss: 110.4134\nEpoch 13/50\n721/721 [==============================] - 0s 140us/step - loss: 113.4166\nEpoch 14/50\n721/721 [==============================] - 0s 135us/step - loss: 109.9082\nEpoch 15/50\n721/721 [==============================] - 0s 138us/step - loss: 110.4645\nEpoch 16/50\n721/721 [==============================] - 0s 142us/step - loss: 110.2247\nEpoch 17/50\n721/721 [==============================] - 0s 158us/step - loss: 111.4274\nEpoch 18/50\n721/721 [==============================] - 0s 137us/step - loss: 109.1183\nEpoch 19/50\n721/721 [==============================] - 0s 139us/step - loss: 108.6882\nEpoch 20/50\n721/721 [==============================] - 0s 137us/step - loss: 109.3307\nEpoch 21/50\n721/721 [==============================] - 0s 136us/step - loss: 109.0129\nEpoch 22/50\n721/721 [==============================] - 0s 147us/step - loss: 108.9017\nEpoch 23/50\n721/721 [==============================] - 0s 137us/step - loss: 109.0638\nEpoch 24/50\n721/721 [==============================] - 0s 135us/step - loss: 111.6650\nEpoch 25/50\n721/721 [==============================] - 0s 136us/step - loss: 108.7696\nEpoch 26/50\n721/721 [==============================] - 0s 137us/step - loss: 108.2715\nEpoch 27/50\n721/721 [==============================] - 0s 136us/step - loss: 108.9076\nEpoch 28/50\n721/721 [==============================] - 0s 141us/step - loss: 108.0776\nEpoch 29/50\n721/721 [==============================] - 0s 135us/step - loss: 109.2719\nEpoch 30/50\n721/721 [==============================] - 0s 140us/step - loss: 108.6634\nEpoch 31/50\n721/721 [==============================] - 0s 160us/step - loss: 106.2944\nEpoch 32/50\n721/721 [==============================] - 0s 136us/step - loss: 109.7629\nEpoch 33/50\n721/721 [==============================] - 0s 137us/step - loss: 108.0153\nEpoch 34/50\n721/721 [==============================] - 0s 138us/step - loss: 109.7513\nEpoch 35/50\n721/721 [==============================] - 0s 141us/step - loss: 107.4352\nEpoch 36/50\n721/721 [==============================] - 0s 137us/step - loss: 108.6640\nEpoch 37/50\n721/721 [==============================] - 0s 150us/step - loss: 106.8506\nEpoch 38/50\n721/721 [==============================] - 0s 130us/step - loss: 106.4787\nEpoch 39/50\n721/721 [==============================] - 0s 137us/step - loss: 111.5265\nEpoch 40/50\n721/721 [==============================] - 0s 138us/step - loss: 107.0898\nEpoch 41/50\n721/721 [==============================] - 0s 138us/step - loss: 108.5637\nEpoch 42/50\n721/721 [==============================] - 0s 138us/step - loss: 111.5761\nEpoch 43/50\n721/721 [==============================] - 0s 145us/step - loss: 112.5510\nEpoch 44/50\n721/721 [==============================] - 0s 117us/step - loss: 107.1515\nEpoch 45/50\n721/721 [==============================] - 0s 218us/step - loss: 107.5878\nEpoch 46/50\n721/721 [==============================] - 0s 131us/step - loss: 105.6240\nEpoch 47/50\n721/721 [==============================] - 0s 187us/step - loss: 106.8571\nEpoch 48/50\n721/721 [==============================] - 0s 164us/step - loss: 105.4464\nEpoch 49/50\n721/721 [==============================] - 0s 142us/step - loss: 105.5918\nEpoch 50/50\n721/721 [==============================] - 0s 162us/step - loss: 106.1377\n"
                },
                {
                    "data": {
                        "text/plain": "<keras.callbacks.History at 0x7f270014eb70>"
                    },
                    "execution_count": 21,
                    "metadata": {},
                    "output_type": "execute_result"
                }
            ],
            "source": "# fit the model\nepochs = 50\nmodel.fit(X_train, y_train, epochs=epochs, verbose=1)"
        },
        {
            "cell_type": "markdown",
            "metadata": {},
            "source": "## Evaluate the model using test data"
        },
        {
            "cell_type": "code",
            "execution_count": 26,
            "metadata": {},
            "outputs": [
                {
                    "name": "stdout",
                    "output_type": "stream",
                    "text": "309/309 [==============================] - 0s 67us/step\n"
                },
                {
                    "data": {
                        "text/plain": "53.502085157968466"
                    },
                    "execution_count": 26,
                    "metadata": {},
                    "output_type": "execute_result"
                }
            ],
            "source": "\nloss_val = model.evaluate(X_test, y_test)\ny_pred = model.predict(X_test)\nloss_val\n"
        },
        {
            "cell_type": "code",
            "execution_count": 27,
            "metadata": {},
            "outputs": [
                {
                    "name": "stdout",
                    "output_type": "stream",
                    "text": "53.50208550977347 0.0\n"
                }
            ],
            "source": "#  compute the mean squared error between the predicted concrete strength and the actual concrete strength\nmean_square_error = mean_squared_error(y_test, y_pred)\nmean = np.mean(mean_square_error)\nstandard_deviation = np.std(mean_square_error)\nprint(mean, standard_deviation)"
        },
        {
            "cell_type": "code",
            "execution_count": 25,
            "metadata": {},
            "outputs": [
                {
                    "name": "stdout",
                    "output_type": "stream",
                    "text": "MSE 1: 62.30044698869526\nMSE 2: 59.73377015444067\nMSE 3: 51.29802835952117\nMSE 4: 49.12320812929024\nMSE 5: 58.882911978416075\nMSE 6: 49.407760570735995\nMSE 7: 50.80369367877257\nMSE 8: 50.08914893190452\nMSE 9: 54.50033686616274\nMSE 10: 49.46643660215113\nMSE 11: 56.098385634931546\nMSE 12: 48.92744211240108\nMSE 13: 50.73224400393785\nMSE 14: 49.406319244779816\nMSE 15: 61.845776172131785\nMSE 16: 53.03028381989612\nMSE 17: 49.48614679725425\nMSE 18: 50.29475475669293\nMSE 19: 49.06855497391093\nMSE 20: 49.36271815624052\nMSE 21: 49.43427981527878\nMSE 22: 48.70330726598844\nMSE 23: 48.611626819499484\nMSE 24: 49.59635417901197\nMSE 25: 51.7100830325031\nMSE 26: 49.1841848182061\nMSE 27: 50.81362771833599\nMSE 28: 48.4405851394999\nMSE 29: 58.6947926394762\nMSE 30: 48.87127046060408\nMSE 31: 48.857584820596145\nMSE 32: 48.87367771975816\nMSE 33: 49.07727458176104\nMSE 34: 49.9205559912623\nMSE 35: 49.652283430871066\nMSE 36: 51.07274785705369\nMSE 37: 56.405824062507904\nMSE 38: 48.979566370399255\nMSE 39: 52.20669600107137\nMSE 40: 49.39420182805231\nMSE 41: 52.11822880124583\nMSE 42: 49.83274449962628\nMSE 43: 48.964706939400976\nMSE 44: 54.449471347154535\nMSE 45: 49.41292467086446\nMSE 46: 49.30140193457742\nMSE 47: 49.40578874260862\nMSE 48: 49.20028768002408\nMSE 49: 48.636187815743355\nMSE 50: 53.502085157968466\n\n\nBelow is the mean and standard deviation of 50 mean squared errors without normalized data. Total number of epochs for each training is: 50\n\nMean: 51.34365568301944\nStandard Deviation: 3.5497522591162753\n"
                }
            ],
            "source": "#Repeat steps 1 - 3, 50 times, i.e., create a list of 50 mean squared errors\ntotal_mse = 50\nepochs = 50\nmean_squared_errors = []\nfor i in range(0, total_mse):\n    #X_train, X_test, y_train, y_test = train_test_split(predictors, target, test_size=0.3, random_state=i)\n    model.fit(X_train, y_train, epochs=epochs, verbose=0)\n    MSE = model.evaluate(X_test, y_test, verbose=0)\n    print(\"MSE \"+str(i+1)+\": \"+str(MSE))\n    y_pred = model.predict(X_test)\n    mean_square_error = mean_squared_error(y_test, y_pred)\n    mean_squared_errors.append(mean_square_error)\n\nmean_squared_errors = np.array(mean_squared_errors)\nmean = np.mean(mean_squared_errors)\nstandard_deviation = np.std(mean_squared_errors)\n\nprint('\\n')\nprint(\"Below is the mean and standard deviation of \" +str(total_mse) + \" mean squared errors without normalized data. Total number of epochs for each training is: \" +str(epochs) + \"\\n\")\nprint(\"Mean: \"+str(mean))\nprint(\"Standard Deviation: \"+str(standard_deviation))"
        }
    ],
    "metadata": {
        "kernelspec": {
            "display_name": "Python 3.6",
            "language": "python",
            "name": "python3"
        },
        "language_info": {
            "codemirror_mode": {
                "name": "ipython",
                "version": 3
            },
            "file_extension": ".py",
            "mimetype": "text/x-python",
            "name": "python",
            "nbconvert_exporter": "python",
            "pygments_lexer": "ipython3",
            "version": "3.6.9"
        }
    },
    "nbformat": 4,
    "nbformat_minor": 1
}