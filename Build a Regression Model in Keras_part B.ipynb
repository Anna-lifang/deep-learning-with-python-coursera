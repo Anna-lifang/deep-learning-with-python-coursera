{
    "cells": [
        {
            "cell_type": "markdown",
            "metadata": {},
            "source": "# Download and Clean Dataset"
        },
        {
            "cell_type": "code",
            "execution_count": 1,
            "metadata": {},
            "outputs": [],
            "source": "import pandas as pd\nimport numpy as np"
        },
        {
            "cell_type": "markdown",
            "metadata": {},
            "source": "## Let's download the data and read it into a pandas dataframe."
        },
        {
            "cell_type": "code",
            "execution_count": 2,
            "metadata": {},
            "outputs": [
                {
                    "data": {
                        "text/html": "<div>\n<style scoped>\n    .dataframe tbody tr th:only-of-type {\n        vertical-align: middle;\n    }\n\n    .dataframe tbody tr th {\n        vertical-align: top;\n    }\n\n    .dataframe thead th {\n        text-align: right;\n    }\n</style>\n<table border=\"1\" class=\"dataframe\">\n  <thead>\n    <tr style=\"text-align: right;\">\n      <th></th>\n      <th>Cement</th>\n      <th>Blast Furnace Slag</th>\n      <th>Fly Ash</th>\n      <th>Water</th>\n      <th>Superplasticizer</th>\n      <th>Coarse Aggregate</th>\n      <th>Fine Aggregate</th>\n      <th>Age</th>\n      <th>Strength</th>\n    </tr>\n  </thead>\n  <tbody>\n    <tr>\n      <th>0</th>\n      <td>540.0</td>\n      <td>0.0</td>\n      <td>0.0</td>\n      <td>162.0</td>\n      <td>2.5</td>\n      <td>1040.0</td>\n      <td>676.0</td>\n      <td>28</td>\n      <td>79.99</td>\n    </tr>\n    <tr>\n      <th>1</th>\n      <td>540.0</td>\n      <td>0.0</td>\n      <td>0.0</td>\n      <td>162.0</td>\n      <td>2.5</td>\n      <td>1055.0</td>\n      <td>676.0</td>\n      <td>28</td>\n      <td>61.89</td>\n    </tr>\n    <tr>\n      <th>2</th>\n      <td>332.5</td>\n      <td>142.5</td>\n      <td>0.0</td>\n      <td>228.0</td>\n      <td>0.0</td>\n      <td>932.0</td>\n      <td>594.0</td>\n      <td>270</td>\n      <td>40.27</td>\n    </tr>\n    <tr>\n      <th>3</th>\n      <td>332.5</td>\n      <td>142.5</td>\n      <td>0.0</td>\n      <td>228.0</td>\n      <td>0.0</td>\n      <td>932.0</td>\n      <td>594.0</td>\n      <td>365</td>\n      <td>41.05</td>\n    </tr>\n    <tr>\n      <th>4</th>\n      <td>198.6</td>\n      <td>132.4</td>\n      <td>0.0</td>\n      <td>192.0</td>\n      <td>0.0</td>\n      <td>978.4</td>\n      <td>825.5</td>\n      <td>360</td>\n      <td>44.30</td>\n    </tr>\n  </tbody>\n</table>\n</div>",
                        "text/plain": "   Cement  Blast Furnace Slag  Fly Ash  Water  Superplasticizer  \\\n0   540.0                 0.0      0.0  162.0               2.5   \n1   540.0                 0.0      0.0  162.0               2.5   \n2   332.5               142.5      0.0  228.0               0.0   \n3   332.5               142.5      0.0  228.0               0.0   \n4   198.6               132.4      0.0  192.0               0.0   \n\n   Coarse Aggregate  Fine Aggregate  Age  Strength  \n0            1040.0           676.0   28     79.99  \n1            1055.0           676.0   28     61.89  \n2             932.0           594.0  270     40.27  \n3             932.0           594.0  365     41.05  \n4             978.4           825.5  360     44.30  "
                    },
                    "execution_count": 2,
                    "metadata": {},
                    "output_type": "execute_result"
                }
            ],
            "source": "concrete_data = pd.read_csv('https://s3-api.us-geo.objectstorage.softlayer.net/cf-courses-data/CognitiveClass/DL0101EN/labs/data/concrete_data.csv')\nconcrete_data.head()"
        },
        {
            "cell_type": "markdown",
            "metadata": {},
            "source": "## Let's check how many data points we have."
        },
        {
            "cell_type": "code",
            "execution_count": 3,
            "metadata": {},
            "outputs": [
                {
                    "data": {
                        "text/plain": "(1030, 9)"
                    },
                    "execution_count": 3,
                    "metadata": {},
                    "output_type": "execute_result"
                }
            ],
            "source": "concrete_data.shape"
        },
        {
            "cell_type": "markdown",
            "metadata": {},
            "source": "## Let's check the dataset for any missing values."
        },
        {
            "cell_type": "code",
            "execution_count": 4,
            "metadata": {},
            "outputs": [
                {
                    "data": {
                        "text/plain": "Cement                0\nBlast Furnace Slag    0\nFly Ash               0\nWater                 0\nSuperplasticizer      0\nCoarse Aggregate      0\nFine Aggregate        0\nAge                   0\nStrength              0\ndtype: int64"
                    },
                    "execution_count": 4,
                    "metadata": {},
                    "output_type": "execute_result"
                }
            ],
            "source": "concrete_data.isnull().sum()"
        },
        {
            "cell_type": "markdown",
            "metadata": {},
            "source": "## Split data into predictors and target"
        },
        {
            "cell_type": "code",
            "execution_count": 5,
            "metadata": {},
            "outputs": [],
            "source": "concrete_data_columns = concrete_data.columns\n\npredictors = concrete_data[concrete_data_columns[concrete_data_columns != 'Strength']] # all columns except Strength\ntarget = concrete_data['Strength'] # Strength column"
        },
        {
            "cell_type": "markdown",
            "metadata": {},
            "source": "## Normalize the data is by subtracting the mean from the individual predictors and dividing by the standard deviation."
        },
        {
            "cell_type": "code",
            "execution_count": 7,
            "metadata": {},
            "outputs": [
                {
                    "data": {
                        "text/html": "<div>\n<style scoped>\n    .dataframe tbody tr th:only-of-type {\n        vertical-align: middle;\n    }\n\n    .dataframe tbody tr th {\n        vertical-align: top;\n    }\n\n    .dataframe thead th {\n        text-align: right;\n    }\n</style>\n<table border=\"1\" class=\"dataframe\">\n  <thead>\n    <tr style=\"text-align: right;\">\n      <th></th>\n      <th>Cement</th>\n      <th>Blast Furnace Slag</th>\n      <th>Fly Ash</th>\n      <th>Water</th>\n      <th>Superplasticizer</th>\n      <th>Coarse Aggregate</th>\n      <th>Fine Aggregate</th>\n      <th>Age</th>\n    </tr>\n  </thead>\n  <tbody>\n    <tr>\n      <th>0</th>\n      <td>2.476712</td>\n      <td>-0.856472</td>\n      <td>-0.846733</td>\n      <td>-0.916319</td>\n      <td>-0.620147</td>\n      <td>0.862735</td>\n      <td>-1.217079</td>\n      <td>-0.279597</td>\n    </tr>\n    <tr>\n      <th>1</th>\n      <td>2.476712</td>\n      <td>-0.856472</td>\n      <td>-0.846733</td>\n      <td>-0.916319</td>\n      <td>-0.620147</td>\n      <td>1.055651</td>\n      <td>-1.217079</td>\n      <td>-0.279597</td>\n    </tr>\n    <tr>\n      <th>2</th>\n      <td>0.491187</td>\n      <td>0.795140</td>\n      <td>-0.846733</td>\n      <td>2.174405</td>\n      <td>-1.038638</td>\n      <td>-0.526262</td>\n      <td>-2.239829</td>\n      <td>3.551340</td>\n    </tr>\n    <tr>\n      <th>3</th>\n      <td>0.491187</td>\n      <td>0.795140</td>\n      <td>-0.846733</td>\n      <td>2.174405</td>\n      <td>-1.038638</td>\n      <td>-0.526262</td>\n      <td>-2.239829</td>\n      <td>5.055221</td>\n    </tr>\n    <tr>\n      <th>4</th>\n      <td>-0.790075</td>\n      <td>0.678079</td>\n      <td>-0.846733</td>\n      <td>0.488555</td>\n      <td>-1.038638</td>\n      <td>0.070492</td>\n      <td>0.647569</td>\n      <td>4.976069</td>\n    </tr>\n  </tbody>\n</table>\n</div>",
                        "text/plain": "     Cement  Blast Furnace Slag   Fly Ash     Water  Superplasticizer  \\\n0  2.476712           -0.856472 -0.846733 -0.916319         -0.620147   \n1  2.476712           -0.856472 -0.846733 -0.916319         -0.620147   \n2  0.491187            0.795140 -0.846733  2.174405         -1.038638   \n3  0.491187            0.795140 -0.846733  2.174405         -1.038638   \n4 -0.790075            0.678079 -0.846733  0.488555         -1.038638   \n\n   Coarse Aggregate  Fine Aggregate       Age  \n0          0.862735       -1.217079 -0.279597  \n1          1.055651       -1.217079 -0.279597  \n2         -0.526262       -2.239829  3.551340  \n3         -0.526262       -2.239829  5.055221  \n4          0.070492        0.647569  4.976069  "
                    },
                    "execution_count": 7,
                    "metadata": {},
                    "output_type": "execute_result"
                }
            ],
            "source": "predictors_norm = (predictors - predictors.mean()) / predictors.std()\npredictors_norm.head()"
        },
        {
            "cell_type": "code",
            "execution_count": 8,
            "metadata": {},
            "outputs": [
                {
                    "data": {
                        "text/plain": "8"
                    },
                    "execution_count": 8,
                    "metadata": {},
                    "output_type": "execute_result"
                }
            ],
            "source": "n_cols = predictors_norm.shape[1] # number of predictors\nn_cols"
        },
        {
            "cell_type": "markdown",
            "metadata": {},
            "source": "## import the libraries"
        },
        {
            "cell_type": "code",
            "execution_count": 9,
            "metadata": {},
            "outputs": [
                {
                    "name": "stderr",
                    "output_type": "stream",
                    "text": "Using TensorFlow backend.\n"
                }
            ],
            "source": "from sklearn.model_selection import train_test_split\nfrom sklearn.metrics import mean_squared_error\nfrom sklearn.metrics import r2_score\n\nimport keras\n\nfrom keras.models import Sequential\nfrom keras.layers import Dense\nfrom sklearn.metrics import mean_squared_error"
        },
        {
            "cell_type": "markdown",
            "metadata": {},
            "source": "# Part A Build a baseline model"
        },
        {
            "cell_type": "markdown",
            "metadata": {},
            "source": "## Randomly split the data into a training and test sets by holding 30% of the data for testing."
        },
        {
            "cell_type": "code",
            "execution_count": 10,
            "metadata": {},
            "outputs": [],
            "source": "X_train, X_test, y_train, y_test = train_test_split(predictors_norm, target, test_size=0.3, random_state=42)"
        },
        {
            "cell_type": "code",
            "execution_count": 11,
            "metadata": {},
            "outputs": [],
            "source": "#build the regression model\ndef regression_model():\n    # create model\n    model = Sequential()\n    model.add(Dense(10, activation='relu', input_shape=(n_cols,)))\n    model.add(Dense(1))\n    \n    # compile model\n    model.compile(optimizer='adam', loss='mean_squared_error')\n    return model"
        },
        {
            "cell_type": "markdown",
            "metadata": {},
            "source": "## Train and test the model"
        },
        {
            "cell_type": "code",
            "execution_count": 12,
            "metadata": {},
            "outputs": [
                {
                    "name": "stdout",
                    "output_type": "stream",
                    "text": "WARNING:tensorflow:From /opt/conda/envs/Python36/lib/python3.6/site-packages/tensorflow/python/framework/op_def_library.py:263: colocate_with (from tensorflow.python.framework.ops) is deprecated and will be removed in a future version.\nInstructions for updating:\nColocations handled automatically by placer.\n"
                }
            ],
            "source": "model = regression_model()"
        },
        {
            "cell_type": "markdown",
            "metadata": {},
            "source": "## Train the model with 50 epoachs"
        },
        {
            "cell_type": "code",
            "execution_count": 13,
            "metadata": {},
            "outputs": [
                {
                    "name": "stdout",
                    "output_type": "stream",
                    "text": "WARNING:tensorflow:From /opt/conda/envs/Python36/lib/python3.6/site-packages/tensorflow/python/ops/math_ops.py:3066: to_int32 (from tensorflow.python.ops.math_ops) is deprecated and will be removed in a future version.\nInstructions for updating:\nUse tf.cast instead.\nEpoch 1/50\n721/721 [==============================] - 1s 882us/step - loss: 1582.4168\nEpoch 2/50\n721/721 [==============================] - 0s 141us/step - loss: 1565.0811\nEpoch 3/50\n721/721 [==============================] - 0s 159us/step - loss: 1547.5283\nEpoch 4/50\n721/721 [==============================] - 0s 140us/step - loss: 1529.5367\nEpoch 5/50\n721/721 [==============================] - 0s 140us/step - loss: 1510.9121\nEpoch 6/50\n721/721 [==============================] - 0s 138us/step - loss: 1491.6362\nEpoch 7/50\n721/721 [==============================] - 0s 138us/step - loss: 1471.67980s - loss: 1421.71\nEpoch 8/50\n721/721 [==============================] - 0s 138us/step - loss: 1451.0557\nEpoch 9/50\n721/721 [==============================] - 0s 140us/step - loss: 1429.5935\nEpoch 10/50\n721/721 [==============================] - 0s 146us/step - loss: 1406.8245\nEpoch 11/50\n721/721 [==============================] - 0s 136us/step - loss: 1383.8102\nEpoch 12/50\n721/721 [==============================] - 0s 138us/step - loss: 1359.5101\nEpoch 13/50\n721/721 [==============================] - 0s 148us/step - loss: 1334.5299\nEpoch 14/50\n721/721 [==============================] - 0s 139us/step - loss: 1308.5719\nEpoch 15/50\n721/721 [==============================] - 0s 141us/step - loss: 1281.4231\nEpoch 16/50\n721/721 [==============================] - 0s 136us/step - loss: 1253.6903\nEpoch 17/50\n721/721 [==============================] - 0s 139us/step - loss: 1225.6156\nEpoch 18/50\n721/721 [==============================] - 0s 137us/step - loss: 1195.9697\nEpoch 19/50\n721/721 [==============================] - 0s 138us/step - loss: 1166.2249\nEpoch 20/50\n721/721 [==============================] - 0s 139us/step - loss: 1135.8553\nEpoch 21/50\n721/721 [==============================] - ETA: 0s - loss: 1116.48 - 0s 137us/step - loss: 1105.1256\nEpoch 22/50\n721/721 [==============================] - 0s 139us/step - loss: 1073.4336\nEpoch 23/50\n721/721 [==============================] - 0s 148us/step - loss: 1042.2187\nEpoch 24/50\n721/721 [==============================] - 0s 127us/step - loss: 1009.9333\nEpoch 25/50\n721/721 [==============================] - 0s 136us/step - loss: 977.6714\nEpoch 26/50\n721/721 [==============================] - 0s 137us/step - loss: 945.4518\nEpoch 27/50\n721/721 [==============================] - 0s 136us/step - loss: 912.6414\nEpoch 28/50\n721/721 [==============================] - 0s 137us/step - loss: 880.1828\nEpoch 29/50\n721/721 [==============================] - 0s 147us/step - loss: 847.5712\nEpoch 30/50\n721/721 [==============================] - 0s 153us/step - loss: 815.5348\nEpoch 31/50\n721/721 [==============================] - 0s 121us/step - loss: 783.6976\nEpoch 32/50\n721/721 [==============================] - 0s 141us/step - loss: 752.3548\nEpoch 33/50\n721/721 [==============================] - 0s 138us/step - loss: 721.6020\nEpoch 34/50\n721/721 [==============================] - 0s 139us/step - loss: 691.5080\nEpoch 35/50\n721/721 [==============================] - 0s 140us/step - loss: 662.4794\nEpoch 36/50\n721/721 [==============================] - 0s 137us/step - loss: 634.0863\nEpoch 37/50\n721/721 [==============================] - ETA: 0s - loss: 620.241 - 0s 139us/step - loss: 606.8930\nEpoch 38/50\n721/721 [==============================] - 0s 155us/step - loss: 581.0219\nEpoch 39/50\n721/721 [==============================] - 0s 138us/step - loss: 555.3913\nEpoch 40/50\n721/721 [==============================] - 0s 141us/step - loss: 531.2589\nEpoch 41/50\n721/721 [==============================] - 0s 136us/step - loss: 508.4695\nEpoch 42/50\n721/721 [==============================] - 0s 143us/step - loss: 486.2474\nEpoch 43/50\n721/721 [==============================] - 0s 137us/step - loss: 465.1600\nEpoch 44/50\n721/721 [==============================] - 0s 135us/step - loss: 444.9983\nEpoch 45/50\n721/721 [==============================] - 0s 137us/step - loss: 426.2008\nEpoch 46/50\n721/721 [==============================] - 0s 138us/step - loss: 407.9777\nEpoch 47/50\n721/721 [==============================] - 0s 234us/step - loss: 390.9234\nEpoch 48/50\n721/721 [==============================] - 0s 155us/step - loss: 374.8269\nEpoch 49/50\n721/721 [==============================] - 0s 185us/step - loss: 359.7422\nEpoch 50/50\n721/721 [==============================] - 0s 123us/step - loss: 345.5828\n"
                },
                {
                    "data": {
                        "text/plain": "<keras.callbacks.History at 0x7ff4d4141ac8>"
                    },
                    "execution_count": 13,
                    "metadata": {},
                    "output_type": "execute_result"
                }
            ],
            "source": "# fit the model\nepochs = 50\nmodel.fit(X_train, y_train, epochs=epochs, verbose=1)"
        },
        {
            "cell_type": "markdown",
            "metadata": {},
            "source": "## Evaluate the model using test data"
        },
        {
            "cell_type": "code",
            "execution_count": 14,
            "metadata": {},
            "outputs": [
                {
                    "name": "stdout",
                    "output_type": "stream",
                    "text": "309/309 [==============================] - 0s 197us/step\n"
                },
                {
                    "data": {
                        "text/plain": "338.6520102294132"
                    },
                    "execution_count": 14,
                    "metadata": {},
                    "output_type": "execute_result"
                }
            ],
            "source": "\nloss_val = model.evaluate(X_test, y_test)\ny_pred = model.predict(X_test)\nloss_val\n"
        },
        {
            "cell_type": "code",
            "execution_count": 15,
            "metadata": {},
            "outputs": [
                {
                    "name": "stdout",
                    "output_type": "stream",
                    "text": "338.6520076223858 0.0\n"
                }
            ],
            "source": "#  compute the mean squared error between the predicted concrete strength and the actual concrete strength\nmean_square_error = mean_squared_error(y_test, y_pred)\nmean = np.mean(mean_square_error)\nstandard_deviation = np.std(mean_square_error)\nprint(mean, standard_deviation)"
        },
        {
            "cell_type": "code",
            "execution_count": 16,
            "metadata": {},
            "outputs": [
                {
                    "name": "stdout",
                    "output_type": "stream",
                    "text": "MSE 1: 153.3060706178733\nMSE 2: 109.01760676609274\nMSE 3: 86.14635595920402\nMSE 4: 75.66015039832847\nMSE 5: 68.87094506322373\nMSE 6: 62.82472751210037\nMSE 7: 54.630285874153806\nMSE 8: 50.84225745339995\nMSE 9: 48.275496930366195\nMSE 10: 46.32323411367472\nMSE 11: 45.499464510328174\nMSE 12: 44.003234474404344\nMSE 13: 43.944041674962705\nMSE 14: 43.05254039332319\nMSE 15: 42.91632231308033\nMSE 16: 42.54754368927101\nMSE 17: 42.76141208661027\nMSE 18: 42.08386765637444\nMSE 19: 42.342365487107955\nMSE 20: 42.35723120803586\nMSE 21: 41.97036896245765\nMSE 22: 41.9675872333613\nMSE 23: 41.69700328123222\nMSE 24: 41.734957667230404\nMSE 25: 41.42422635346941\nMSE 26: 41.463737234714344\nMSE 27: 41.089993887348854\nMSE 28: 41.245618888089574\nMSE 29: 41.20905060752696\nMSE 30: 40.555208237040006\nMSE 31: 40.617398104621365\nMSE 32: 40.06329110525187\nMSE 33: 40.02036203304155\nMSE 34: 39.581082760709\nMSE 35: 39.64417863123625\nMSE 36: 39.427970978820206\nMSE 37: 39.594802844100016\nMSE 38: 39.18075176350121\nMSE 39: 39.082772338274616\nMSE 40: 39.1926466870848\nMSE 41: 39.53293625668029\nMSE 42: 39.206180652754206\nMSE 43: 39.020225092816894\nMSE 44: 38.859138322108\nMSE 45: 38.86485763969545\nMSE 46: 38.653555021316876\nMSE 47: 38.8943512185106\nMSE 48: 38.71267222432257\nMSE 49: 38.875366087484515\nMSE 50: 38.96614800610588\n\n\nBelow is the mean and standard deviation of 50 mean squared errors without normalized data. Total number of epochs for each training is: 50\n\nMean: 47.75507335079646\nStandard Deviation: 19.96826435904281\n"
                }
            ],
            "source": "#Repeat steps 1 - 3, 50 times, i.e., create a list of 50 mean squared errors\ntotal_mse = 50\nepochs = 50\nmean_squared_errors = []\nfor i in range(0, total_mse):\n    #X_train, X_test, y_train, y_test = train_test_split(predictors, target, test_size=0.3, random_state=i)\n    model.fit(X_train, y_train, epochs=epochs, verbose=0)\n    MSE = model.evaluate(X_test, y_test, verbose=0)\n    print(\"MSE \"+str(i+1)+\": \"+str(MSE))\n    y_pred = model.predict(X_test)\n    mean_square_error = mean_squared_error(y_test, y_pred)\n    mean_squared_errors.append(mean_square_error)\n\nmean_squared_errors = np.array(mean_squared_errors)\nmean = np.mean(mean_squared_errors)\nstandard_deviation = np.std(mean_squared_errors)\n\nprint('\\n')\nprint(\"Below is the mean and standard deviation of \" +str(total_mse) + \" mean squared errors without normalized data. Total number of epochs for each training is: \" +str(epochs) + \"\\n\")\nprint(\"Mean: \"+str(mean))\nprint(\"Standard Deviation: \"+str(standard_deviation))"
        },
        {
            "cell_type": "markdown",
            "metadata": {},
            "source": "# Compared with partA, when normalizing the data, the mean is smaller and the standard deviation is bigger"
        },
        {
            "cell_type": "code",
            "execution_count": null,
            "metadata": {},
            "outputs": [],
            "source": ""
        }
    ],
    "metadata": {
        "kernelspec": {
            "display_name": "Python 3.6",
            "language": "python",
            "name": "python3"
        },
        "language_info": {
            "codemirror_mode": {
                "name": "ipython",
                "version": 3
            },
            "file_extension": ".py",
            "mimetype": "text/x-python",
            "name": "python",
            "nbconvert_exporter": "python",
            "pygments_lexer": "ipython3",
            "version": "3.6.9"
        }
    },
    "nbformat": 4,
    "nbformat_minor": 1
}